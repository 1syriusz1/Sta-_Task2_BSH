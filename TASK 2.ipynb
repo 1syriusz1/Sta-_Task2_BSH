{
 "cells": [
  {
   "cell_type": "code",
   "execution_count": null,
   "metadata": {},
   "outputs": [],
   "source": [
    "#THERE IS PRESENTED THE WORKFLOW OF HANDLING TASK 2 FROM STAŻ BSH ASSIGNMENT"
   ]
  },
  {
   "cell_type": "code",
   "execution_count": 2,
   "metadata": {},
   "outputs": [
    {
     "name": "stdout",
     "output_type": "stream",
     "text": [
      "   APPLIANCE_ID  MODEL_ID COOKZONE_ID      EVENT_DATETIME  \\\n",
      "0       1000115  Model-18           C 2020-03-16 15:55:16   \n",
      "1       1000117   Model-6         N/A 2020-11-03 03:04:45   \n",
      "2       1000120   Model-3           A 2022-07-28 08:20:25   \n",
      "3       1000120   Model-3           A 2021-12-27 19:08:31   \n",
      "4       1000119  Model-18         N/A 2022-05-20 13:57:02   \n",
      "\n",
      "           MESSAGE_TEXT  \n",
      "0        Power set to 2  \n",
      "1  Appliance turned off  \n",
      "2  Appliance turned off  \n",
      "3        Power set to 2  \n",
      "4        Power set to 1  \n"
     ]
    }
   ],
   "source": [
    "import pandas as pd\n",
    "import numpy as np\n",
    "import random\n",
    "\n",
    "# Generate 20 unique APPLIANCE_IDs\n",
    "appliance_ids = list(range(1000101, 1000121))  # 20 unique IDs\n",
    "\n",
    "# Generate 20 unique MODEL_IDs\n",
    "model_ids = [f\"Model-{i}\" for i in range(1, 21)]  # 20 unique model IDs\n",
    "\n",
    "# Create random COOKZONE_ID, MESSAGE_TEXT, and EVENT_DATETIME for each APPLIANCE_ID\n",
    "num_events_per_appliance = 5  # Let's have 5 events per APPLIANCE_ID\n",
    "\n",
    "# List of possible COOKZONE_IDs, MESSAGE_TEXTs\n",
    "cookzones = ['A', 'B', 'C', 'D', 'N/A']\n",
    "message_texts = [\"Activated\", \"Deactivated\", \"Appliance turned on\", \"Appliance turned off\",\n",
    "                 \"Power set to 1\", \"Power set to 2\", \"Power set to 3\", \"Power set to 4\",\n",
    "                 \"Power set to 5\", \"Power set to 6\", \"Power set to 7\", \"Power set to 8\",\n",
    "                 \"Power set to 9\"]\n",
    "\n",
    "# Initialize lists for each column\n",
    "appliance_id_list = []\n",
    "model_id_list = []\n",
    "cookzone_list = []\n",
    "event_datetime_list = []\n",
    "message_text_list = []\n",
    "\n",
    "# Loop through each APPLIANCE_ID and generate multiple events\n",
    "for appliance_id in appliance_ids:\n",
    "    model_id = random.choice(model_ids)  # Randomly select a model for each APPLIANCE_ID\n",
    "    for _ in range(num_events_per_appliance):\n",
    "        cookzone = random.choice(cookzones)\n",
    "        event_datetime = pd.Timestamp(np.random.randint(2020, 2023),  # Random year\n",
    "                                      np.random.randint(1, 13),  # Random month\n",
    "                                      np.random.randint(1, 29),  # Random day\n",
    "                                      np.random.randint(0, 24),  # Random hour\n",
    "                                      np.random.randint(0, 60),  # Random minute\n",
    "                                      np.random.randint(0, 60))  # Random second\n",
    "        message_text = random.choice(message_texts)\n",
    "        \n",
    "        # Append to lists\n",
    "        appliance_id_list.append(appliance_id)\n",
    "        model_id_list.append(model_id)\n",
    "        cookzone_list.append(cookzone)\n",
    "        event_datetime_list.append(event_datetime)\n",
    "        message_text_list.append(message_text)\n",
    "\n",
    "# Create DataFrame\n",
    "data = {\n",
    "    'APPLIANCE_ID': appliance_id_list,\n",
    "    'MODEL_ID': model_id_list,\n",
    "    'COOKZONE_ID': cookzone_list,\n",
    "    'EVENT_DATETIME': event_datetime_list,\n",
    "    'MESSAGE_TEXT': message_text_list\n",
    "}\n",
    "\n",
    "df = pd.DataFrame(data)\n",
    "\n",
    "# Shuffle the DataFrame\n",
    "df = df.sample(frac=1).reset_index(drop=True)\n",
    "\n",
    "# Display the DataFrame\n",
    "print(df.head())\n"
   ]
  },
  {
   "cell_type": "code",
   "execution_count": 3,
   "metadata": {},
   "outputs": [
    {
     "data": {
      "text/html": [
       "<div>\n",
       "<style scoped>\n",
       "    .dataframe tbody tr th:only-of-type {\n",
       "        vertical-align: middle;\n",
       "    }\n",
       "\n",
       "    .dataframe tbody tr th {\n",
       "        vertical-align: top;\n",
       "    }\n",
       "\n",
       "    .dataframe thead th {\n",
       "        text-align: right;\n",
       "    }\n",
       "</style>\n",
       "<table border=\"1\" class=\"dataframe\">\n",
       "  <thead>\n",
       "    <tr style=\"text-align: right;\">\n",
       "      <th></th>\n",
       "      <th>APPLIANCE_ID</th>\n",
       "      <th>MODEL_ID</th>\n",
       "      <th>COOKZONE_ID</th>\n",
       "      <th>EVENT_DATETIME</th>\n",
       "      <th>MESSAGE_TEXT</th>\n",
       "    </tr>\n",
       "  </thead>\n",
       "  <tbody>\n",
       "    <tr>\n",
       "      <th>0</th>\n",
       "      <td>1000115</td>\n",
       "      <td>Model-18</td>\n",
       "      <td>C</td>\n",
       "      <td>2020-03-16 15:55:16</td>\n",
       "      <td>Power set to 2</td>\n",
       "    </tr>\n",
       "    <tr>\n",
       "      <th>1</th>\n",
       "      <td>1000117</td>\n",
       "      <td>Model-6</td>\n",
       "      <td>N/A</td>\n",
       "      <td>2020-11-03 03:04:45</td>\n",
       "      <td>Appliance turned off</td>\n",
       "    </tr>\n",
       "    <tr>\n",
       "      <th>2</th>\n",
       "      <td>1000120</td>\n",
       "      <td>Model-3</td>\n",
       "      <td>A</td>\n",
       "      <td>2022-07-28 08:20:25</td>\n",
       "      <td>Appliance turned off</td>\n",
       "    </tr>\n",
       "    <tr>\n",
       "      <th>3</th>\n",
       "      <td>1000120</td>\n",
       "      <td>Model-3</td>\n",
       "      <td>A</td>\n",
       "      <td>2021-12-27 19:08:31</td>\n",
       "      <td>Power set to 2</td>\n",
       "    </tr>\n",
       "    <tr>\n",
       "      <th>4</th>\n",
       "      <td>1000119</td>\n",
       "      <td>Model-18</td>\n",
       "      <td>N/A</td>\n",
       "      <td>2022-05-20 13:57:02</td>\n",
       "      <td>Power set to 1</td>\n",
       "    </tr>\n",
       "  </tbody>\n",
       "</table>\n",
       "</div>"
      ],
      "text/plain": [
       "   APPLIANCE_ID  MODEL_ID COOKZONE_ID      EVENT_DATETIME  \\\n",
       "0       1000115  Model-18           C 2020-03-16 15:55:16   \n",
       "1       1000117   Model-6         N/A 2020-11-03 03:04:45   \n",
       "2       1000120   Model-3           A 2022-07-28 08:20:25   \n",
       "3       1000120   Model-3           A 2021-12-27 19:08:31   \n",
       "4       1000119  Model-18         N/A 2022-05-20 13:57:02   \n",
       "\n",
       "           MESSAGE_TEXT  \n",
       "0        Power set to 2  \n",
       "1  Appliance turned off  \n",
       "2  Appliance turned off  \n",
       "3        Power set to 2  \n",
       "4        Power set to 1  "
      ]
     },
     "execution_count": 3,
     "metadata": {},
     "output_type": "execute_result"
    }
   ],
   "source": [
    "df.head()"
   ]
  },
  {
   "cell_type": "code",
   "execution_count": 34,
   "metadata": {},
   "outputs": [
    {
     "name": "stdout",
     "output_type": "stream",
     "text": [
      "    MODEL_ID  Activation_Count\n",
      "0    Model-2               1.0\n",
      "1   Model-14               0.0\n",
      "2    Model-4               1.0\n",
      "3   Model-10               0.0\n",
      "4   Model-12               0.0\n",
      "5   Model-13               0.0\n",
      "6    Model-9               1.0\n",
      "7    Model-7               0.0\n",
      "8   Model-19               3.0\n",
      "9   Model-18               2.0\n",
      "10  Model-20               0.0\n",
      "11   Model-8               0.0\n",
      "12   Model-6               1.0\n",
      "13   Model-3               2.0\n"
     ]
    }
   ],
   "source": [
    "df = pd.DataFrame(data)\n",
    "\n",
    "# Filter for \"Activated\" events\n",
    "activated_df = df[df['MESSAGE_TEXT'] == 'Activated']\n",
    "\n",
    "# Count the number of activations for each MODEL_ID\n",
    "model_usage = activated_df['MODEL_ID'].value_counts().reset_index()\n",
    "model_usage.columns = ['MODEL_ID', 'Activation_Count']\n",
    "\n",
    "# Create a DataFrame with all unique MODEL_IDs\n",
    "all_models = pd.DataFrame(df['MODEL_ID'].unique(), columns=['MODEL_ID'])\n",
    "\n",
    "# Merge to include all models even if they have 0 activations\n",
    "model_usage_all = pd.merge(all_models, model_usage, on='MODEL_ID', how='left').fillna(0)\n",
    "\n",
    "print(model_usage_all)"
   ]
  },
  {
   "cell_type": "code",
   "execution_count": 36,
   "metadata": {},
   "outputs": [],
   "source": [
    "model_usage_all.to_excel('appliance_data3.xlsx', index=False)\n"
   ]
  },
  {
   "cell_type": "code",
   "execution_count": 10,
   "metadata": {},
   "outputs": [
    {
     "data": {
      "text/plain": [
       "(100, 5)"
      ]
     },
     "execution_count": 10,
     "metadata": {},
     "output_type": "execute_result"
    }
   ],
   "source": [
    "df.shape"
   ]
  },
  {
   "cell_type": "code",
   "execution_count": 27,
   "metadata": {},
   "outputs": [
    {
     "data": {
      "text/plain": [
       "array(['Model-18', 'Model-6', 'Model-3', 'Model-12', 'Model-19',\n",
       "       'Model-10', 'Model-2', 'Model-20', 'Model-8', 'Model-13',\n",
       "       'Model-4', 'Model-14', 'Model-9', 'Model-7'], dtype=object)"
      ]
     },
     "execution_count": 27,
     "metadata": {},
     "output_type": "execute_result"
    }
   ],
   "source": [
    "df.MODEL_ID.unique()"
   ]
  },
  {
   "cell_type": "code",
   "execution_count": 19,
   "metadata": {},
   "outputs": [
    {
     "name": "stdout",
     "output_type": "stream",
     "text": [
      "DataFrame exported to Excel successfully.\n"
     ]
    }
   ],
   "source": [
    "# Export DataFrame to Excel\n",
    "df.to_excel('appliance_data.xlsx', index=False)\n",
    "\n",
    "print(\"DataFrame exported to Excel successfully.\")\n"
   ]
  },
  {
   "cell_type": "code",
   "execution_count": 20,
   "metadata": {},
   "outputs": [],
   "source": [
    "# Filter for \"Activated\" and \"Deactivated\" events\n",
    "filtered_df = df[df['MESSAGE_TEXT'].isin(['Activated'])]\n",
    "\n",
    "# Group by MODEL_ID and count occurrences of \"Activated\" and \"Deactivated\"\n",
    "counts = filtered_df.groupby(['MODEL_ID', 'MESSAGE_TEXT']).size().unstack(fill_value=0)\n",
    "\n",
    "# Reset index for better visualization (optional)\n",
    "counts.reset_index(inplace=True)\n",
    "\n",
    "# Rename columns\n",
    "counts.columns.name = None  # Remove the column index name\n",
    "counts.columns = ['MODEL_ID', 'Activated']\n"
   ]
  },
  {
   "cell_type": "code",
   "execution_count": 22,
   "metadata": {},
   "outputs": [
    {
     "data": {
      "text/html": [
       "<div>\n",
       "<style scoped>\n",
       "    .dataframe tbody tr th:only-of-type {\n",
       "        vertical-align: middle;\n",
       "    }\n",
       "\n",
       "    .dataframe tbody tr th {\n",
       "        vertical-align: top;\n",
       "    }\n",
       "\n",
       "    .dataframe thead th {\n",
       "        text-align: right;\n",
       "    }\n",
       "</style>\n",
       "<table border=\"1\" class=\"dataframe\">\n",
       "  <thead>\n",
       "    <tr style=\"text-align: right;\">\n",
       "      <th></th>\n",
       "      <th>MODEL_ID</th>\n",
       "      <th>Activated</th>\n",
       "    </tr>\n",
       "  </thead>\n",
       "  <tbody>\n",
       "    <tr>\n",
       "      <th>0</th>\n",
       "      <td>Model-18</td>\n",
       "      <td>2</td>\n",
       "    </tr>\n",
       "    <tr>\n",
       "      <th>1</th>\n",
       "      <td>Model-19</td>\n",
       "      <td>3</td>\n",
       "    </tr>\n",
       "    <tr>\n",
       "      <th>2</th>\n",
       "      <td>Model-2</td>\n",
       "      <td>1</td>\n",
       "    </tr>\n",
       "    <tr>\n",
       "      <th>3</th>\n",
       "      <td>Model-3</td>\n",
       "      <td>2</td>\n",
       "    </tr>\n",
       "    <tr>\n",
       "      <th>4</th>\n",
       "      <td>Model-4</td>\n",
       "      <td>1</td>\n",
       "    </tr>\n",
       "    <tr>\n",
       "      <th>5</th>\n",
       "      <td>Model-6</td>\n",
       "      <td>1</td>\n",
       "    </tr>\n",
       "    <tr>\n",
       "      <th>6</th>\n",
       "      <td>Model-9</td>\n",
       "      <td>1</td>\n",
       "    </tr>\n",
       "  </tbody>\n",
       "</table>\n",
       "</div>"
      ],
      "text/plain": [
       "   MODEL_ID  Activated\n",
       "0  Model-18          2\n",
       "1  Model-19          3\n",
       "2   Model-2          1\n",
       "3   Model-3          2\n",
       "4   Model-4          1\n",
       "5   Model-6          1\n",
       "6   Model-9          1"
      ]
     },
     "execution_count": 22,
     "metadata": {},
     "output_type": "execute_result"
    }
   ],
   "source": [
    "counts.head(20)"
   ]
  },
  {
   "cell_type": "code",
   "execution_count": 23,
   "metadata": {},
   "outputs": [],
   "source": [
    "counts.to_excel('appliance_data1.xlsx', index=False)"
   ]
  },
  {
   "cell_type": "code",
   "execution_count": 25,
   "metadata": {},
   "outputs": [
    {
     "name": "stdout",
     "output_type": "stream",
     "text": [
      "    HOUR  Total_Activation_Count\n",
      "0      0                       5\n",
      "1      1                       1\n",
      "2      2                       1\n",
      "3      3                       4\n",
      "4      4                       4\n",
      "5      5                       3\n",
      "6      6                       6\n",
      "7      7                       2\n",
      "8      8                       6\n",
      "9      9                       6\n",
      "10    10                       2\n",
      "11    11                       1\n",
      "12    12                       1\n",
      "13    13                       8\n",
      "14    14                       6\n",
      "15    15                       4\n",
      "16    16                       5\n",
      "17    17                       6\n",
      "18    18                       5\n",
      "19    19                       6\n",
      "20    20                       6\n",
      "21    21                       7\n",
      "22    22                       1\n",
      "23    23                       4\n"
     ]
    }
   ],
   "source": [
    "# Convert 'EVENT_DATETIME' to datetime format\n",
    "df['EVENT_DATETIME'] = pd.to_datetime(df['EVENT_DATETIME'])\n",
    "\n",
    "# Extract the hour from 'EVENT_DATETIME'\n",
    "df['HOUR'] = df['EVENT_DATETIME'].dt.hour\n",
    "\n",
    "# Group by 'HOUR', then count the occurrences\n",
    "usage_by_hour = df.groupby('HOUR').size().reset_index(name='Total_Activation_Count')\n",
    "\n",
    "print(usage_by_hour)"
   ]
  },
  {
   "cell_type": "code",
   "execution_count": 26,
   "metadata": {},
   "outputs": [],
   "source": [
    "usage_by_hour.to_excel('appliance_data2.xlsx', index=False)\n"
   ]
  },
  {
   "cell_type": "code",
   "execution_count": 31,
   "metadata": {},
   "outputs": [
    {
     "name": "stdout",
     "output_type": "stream",
     "text": [
      "    APPLIANCE_ID  MODEL_ID COOKZONE_ID      EVENT_DATETIME MESSAGE_TEXT\n",
      "10       1000103   Model-4         N/A 2020-01-10 21:29:09    Activated\n",
      "35       1000108   Model-9           D 2021-04-16 08:04:30    Activated\n",
      "45       1000110  Model-19           A 2021-01-08 16:05:34    Activated\n",
      "47       1000110  Model-19           A 2020-09-22 21:25:11    Activated\n",
      "52       1000111  Model-18           D 2020-10-05 12:00:37    Activated\n",
      "68       1000114  Model-19           D 2021-02-26 19:46:15    Activated\n",
      "73       1000115  Model-18         N/A 2021-02-02 21:12:08    Activated\n",
      "78       1000116   Model-2           A 2021-02-15 06:05:05    Activated\n",
      "83       1000117   Model-6           D 2022-07-01 18:30:04    Activated\n",
      "96       1000120   Model-3           A 2020-04-26 15:29:25    Activated\n",
      "99       1000120   Model-3           C 2021-09-15 14:05:48    Activated\n"
     ]
    }
   ],
   "source": [
    "df = pd.DataFrame(data)\n",
    "\n",
    "# Filter for \"Activated\" events\n",
    "activated_df = df[df['MESSAGE_TEXT'] == 'Activated']\n",
    "\n",
    "# Count the number of activations for each MODEL_ID\n",
    "model_usage = activated_df['MODEL_ID'].value_counts().reset_index()\n",
    "model_usage.columns = ['MODEL_ID', 'Activation_Count']\n",
    "\n",
    "# Create a DataFrame with all unique MODEL_IDs\n",
    "all_models = pd.DataFrame(df['MODEL_ID'].unique(), columns=['MODEL_ID'])\n",
    "\n",
    "# Merge to include all models even if they have 0 activations\n",
    "model_usage_all = pd.merge(all_models, model_usage, on='MODEL_ID', how='left').fillna(0)\n",
    "\n",
    "print(activated_df)"
   ]
  },
  {
   "cell_type": "code",
   "execution_count": null,
   "metadata": {},
   "outputs": [],
   "source": []
  }
 ],
 "metadata": {
  "kernelspec": {
   "display_name": "Python 3",
   "language": "python",
   "name": "python3"
  },
  "language_info": {
   "codemirror_mode": {
    "name": "ipython",
    "version": 3
   },
   "file_extension": ".py",
   "mimetype": "text/x-python",
   "name": "python",
   "nbconvert_exporter": "python",
   "pygments_lexer": "ipython3",
   "version": "3.12.1"
  }
 },
 "nbformat": 4,
 "nbformat_minor": 2
}
