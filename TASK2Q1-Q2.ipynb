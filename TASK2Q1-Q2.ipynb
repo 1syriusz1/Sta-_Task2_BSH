{
 "cells": [
  {
   "cell_type": "code",
   "execution_count": null,
   "metadata": {},
   "outputs": [],
   "source": [
    "#HERE IS PRESENTED THE WORKFLOW OF HANDLING TASK 2 Q1-Q2 FROM STAŻ BSH ASSIGNMENT"
   ]
  },
  {
   "cell_type": "code",
   "execution_count": 2,
   "metadata": {},
   "outputs": [
    {
     "name": "stderr",
     "output_type": "stream",
     "text": [
      "C:\\Users\\aksel\\AppData\\Local\\Temp\\ipykernel_3988\\605883380.py:1: DeprecationWarning: \n",
      "Pyarrow will become a required dependency of pandas in the next major release of pandas (pandas 3.0),\n",
      "(to allow more performant data types, such as the Arrow string type, and better interoperability with other libraries)\n",
      "but was not found to be installed on your system.\n",
      "If this would cause problems for you,\n",
      "please provide us feedback at https://github.com/pandas-dev/pandas/issues/54466\n",
      "        \n",
      "  import pandas as pd\n"
     ]
    }
   ],
   "source": [
    "import pandas as pd\n",
    "import numpy as np\n",
    "import random"
   ]
  },
  {
   "cell_type": "code",
   "execution_count": 3,
   "metadata": {},
   "outputs": [],
   "source": [
    "random.seed(42)"
   ]
  },
  {
   "cell_type": "code",
   "execution_count": 4,
   "metadata": {},
   "outputs": [],
   "source": [
    "appliance_ids = [random.randint(1000000, 9999999) for _ in range(10)]\n",
    "model_ids = [random.choice([\"Bosch VF67\", \"Siemens GH41\", \"Whirlpool XY12\"]) for _ in range(10)]\n",
    "cookzone_ids = [random.choice([\"A\", \"B\", \"C\", \"D\", \"N/A\"]) for _ in range(10)]\n",
    "message_texts = [random.choice([\"Activated\", \"Deactivated\", \"Ustaw czas!\", \"Błąd, wyczyść płytę\", f\"Power set to {random.randint(1, 9)}\"]) for _ in range(10)]\n",
    "\n"
   ]
  },
  {
   "cell_type": "code",
   "execution_count": 5,
   "metadata": {},
   "outputs": [],
   "source": [
    "start = pd.Timestamp('2023-01-01')\n",
    "end = pd.Timestamp('2023-12-31')\n",
    "event_datetimes = [start + pd.Timedelta(days=random.randint(0, 365),\n",
    "                                        hours=random.randint(0, 23),\n",
    "                                        minutes=random.randint(0, 59),\n",
    "                                        seconds=random.randint(0, 59),\n",
    "                                        milliseconds=random.randint(0, 999),\n",
    "                                        microseconds=random.randint(0, 999999)) for _ in range(10)]\n"
   ]
  },
  {
   "cell_type": "code",
   "execution_count": 6,
   "metadata": {},
   "outputs": [],
   "source": [
    "appliance_id_series = pd.Series(appliance_ids, name='APPLIANCE_ID')\n",
    "model_id_series = pd.Series(model_ids, name='MODEL_ID')\n",
    "cookzone_id_series = pd.Series(cookzone_ids, name='COOKZONE_ID')\n",
    "message_text_series = pd.Series(message_texts, name='MESSAGE_TEXT')\n",
    "event_datetime_series = pd.Series(event_datetimes, name='EVENT_DATETIME')\n"
   ]
  },
  {
   "cell_type": "code",
   "execution_count": 15,
   "metadata": {},
   "outputs": [],
   "source": [
    "task = pd.concat([appliance_id_series, model_id_series, cookzone_id_series, message_text_series, event_datetime_series], axis=1)\n"
   ]
  },
  {
   "cell_type": "code",
   "execution_count": 16,
   "metadata": {},
   "outputs": [
    {
     "name": "stdout",
     "output_type": "stream",
     "text": [
      "\n",
      "Unikalne wartości w poszczególnych kolumnach:\n",
      "APPLIANCE_ID: [2867825 1419610 5614226 5108603 4744854 3341057 2719583 2458591 8078673\n",
      " 1533224]\n",
      "MODEL_ID: ['Bosch VF67' 'Whirlpool XY12']\n",
      "COOKZONE_ID: ['N/A' 'D' 'B' 'C' 'A']\n",
      "MESSAGE_TEXT: ['Deactivated' 'Ustaw czas!' 'Activated' 'Power set to 8'\n",
      " 'Błąd, wyczyść płytę' 'Power set to 2' 'Power set to 5']\n"
     ]
    }
   ],
   "source": [
    "unique_values = {\n",
    "    'APPLIANCE_ID': df['APPLIANCE_ID'].unique(),\n",
    "    'MODEL_ID': df['MODEL_ID'].unique(),\n",
    "    'COOKZONE_ID': df['COOKZONE_ID'].unique(),\n",
    "    'MESSAGE_TEXT': df['MESSAGE_TEXT'].unique()\n",
    "}\n",
    "\n",
    "print(\"\\nUnikalne wartości w poszczególnych kolumnach:\")\n",
    "for column, values in unique_values.items():\n",
    "    print(f\"{column}: {values}\")\n"
   ]
  },
  {
   "cell_type": "code",
   "execution_count": 18,
   "metadata": {},
   "outputs": [
    {
     "data": {
      "text/html": [
       "<div>\n",
       "<style scoped>\n",
       "    .dataframe tbody tr th:only-of-type {\n",
       "        vertical-align: middle;\n",
       "    }\n",
       "\n",
       "    .dataframe tbody tr th {\n",
       "        vertical-align: top;\n",
       "    }\n",
       "\n",
       "    .dataframe thead th {\n",
       "        text-align: right;\n",
       "    }\n",
       "</style>\n",
       "<table border=\"1\" class=\"dataframe\">\n",
       "  <thead>\n",
       "    <tr style=\"text-align: right;\">\n",
       "      <th></th>\n",
       "      <th>APPLIANCE_ID</th>\n",
       "      <th>MODEL_ID</th>\n",
       "      <th>COOKZONE_ID</th>\n",
       "      <th>MESSAGE_TEXT</th>\n",
       "      <th>EVENT_DATETIME</th>\n",
       "    </tr>\n",
       "  </thead>\n",
       "  <tbody>\n",
       "    <tr>\n",
       "      <th>0</th>\n",
       "      <td>2867825</td>\n",
       "      <td>Bosch VF67</td>\n",
       "      <td>N/A</td>\n",
       "      <td>Deactivated</td>\n",
       "      <td>2023-07-05 18:12:45.119050</td>\n",
       "    </tr>\n",
       "    <tr>\n",
       "      <th>1</th>\n",
       "      <td>1419610</td>\n",
       "      <td>Bosch VF67</td>\n",
       "      <td>D</td>\n",
       "      <td>Ustaw czas!</td>\n",
       "      <td>2023-12-05 07:49:18.977865</td>\n",
       "    </tr>\n",
       "    <tr>\n",
       "      <th>2</th>\n",
       "      <td>5614226</td>\n",
       "      <td>Bosch VF67</td>\n",
       "      <td>B</td>\n",
       "      <td>Activated</td>\n",
       "      <td>2023-04-30 03:24:18.130563</td>\n",
       "    </tr>\n",
       "    <tr>\n",
       "      <th>3</th>\n",
       "      <td>5108603</td>\n",
       "      <td>Bosch VF67</td>\n",
       "      <td>D</td>\n",
       "      <td>Activated</td>\n",
       "      <td>2023-07-06 05:23:22.916729</td>\n",
       "    </tr>\n",
       "    <tr>\n",
       "      <th>4</th>\n",
       "      <td>4744854</td>\n",
       "      <td>Whirlpool XY12</td>\n",
       "      <td>N/A</td>\n",
       "      <td>Ustaw czas!</td>\n",
       "      <td>2023-05-17 22:59:43.737870</td>\n",
       "    </tr>\n",
       "    <tr>\n",
       "      <th>5</th>\n",
       "      <td>3341057</td>\n",
       "      <td>Whirlpool XY12</td>\n",
       "      <td>C</td>\n",
       "      <td>Activated</td>\n",
       "      <td>2023-11-08 20:10:35.002702</td>\n",
       "    </tr>\n",
       "    <tr>\n",
       "      <th>6</th>\n",
       "      <td>2719583</td>\n",
       "      <td>Bosch VF67</td>\n",
       "      <td>A</td>\n",
       "      <td>Power set to 8</td>\n",
       "      <td>2023-03-25 14:24:18.618088</td>\n",
       "    </tr>\n",
       "    <tr>\n",
       "      <th>7</th>\n",
       "      <td>2458591</td>\n",
       "      <td>Whirlpool XY12</td>\n",
       "      <td>B</td>\n",
       "      <td>Błąd, wyczyść płytę</td>\n",
       "      <td>2023-12-19 17:14:44.215794</td>\n",
       "    </tr>\n",
       "    <tr>\n",
       "      <th>8</th>\n",
       "      <td>8078673</td>\n",
       "      <td>Bosch VF67</td>\n",
       "      <td>D</td>\n",
       "      <td>Power set to 2</td>\n",
       "      <td>2023-01-29 07:52:03.154776</td>\n",
       "    </tr>\n",
       "    <tr>\n",
       "      <th>9</th>\n",
       "      <td>1533224</td>\n",
       "      <td>Whirlpool XY12</td>\n",
       "      <td>C</td>\n",
       "      <td>Power set to 5</td>\n",
       "      <td>2023-07-25 08:04:14.923712</td>\n",
       "    </tr>\n",
       "  </tbody>\n",
       "</table>\n",
       "</div>"
      ],
      "text/plain": [
       "   APPLIANCE_ID        MODEL_ID COOKZONE_ID         MESSAGE_TEXT  \\\n",
       "0       2867825      Bosch VF67         N/A          Deactivated   \n",
       "1       1419610      Bosch VF67           D          Ustaw czas!   \n",
       "2       5614226      Bosch VF67           B            Activated   \n",
       "3       5108603      Bosch VF67           D            Activated   \n",
       "4       4744854  Whirlpool XY12         N/A          Ustaw czas!   \n",
       "5       3341057  Whirlpool XY12           C            Activated   \n",
       "6       2719583      Bosch VF67           A       Power set to 8   \n",
       "7       2458591  Whirlpool XY12           B  Błąd, wyczyść płytę   \n",
       "8       8078673      Bosch VF67           D       Power set to 2   \n",
       "9       1533224  Whirlpool XY12           C       Power set to 5   \n",
       "\n",
       "              EVENT_DATETIME  \n",
       "0 2023-07-05 18:12:45.119050  \n",
       "1 2023-12-05 07:49:18.977865  \n",
       "2 2023-04-30 03:24:18.130563  \n",
       "3 2023-07-06 05:23:22.916729  \n",
       "4 2023-05-17 22:59:43.737870  \n",
       "5 2023-11-08 20:10:35.002702  \n",
       "6 2023-03-25 14:24:18.618088  \n",
       "7 2023-12-19 17:14:44.215794  \n",
       "8 2023-01-29 07:52:03.154776  \n",
       "9 2023-07-25 08:04:14.923712  "
      ]
     },
     "execution_count": 18,
     "metadata": {},
     "output_type": "execute_result"
    }
   ],
   "source": [
    "task.head(10)"
   ]
  },
  {
   "cell_type": "code",
   "execution_count": 19,
   "metadata": {},
   "outputs": [
    {
     "data": {
      "text/plain": [
       "(10, 5)"
      ]
     },
     "execution_count": 19,
     "metadata": {},
     "output_type": "execute_result"
    }
   ],
   "source": [
    "task.shape"
   ]
  },
  {
   "cell_type": "code",
   "execution_count": 11,
   "metadata": {},
   "outputs": [],
   "source": [
    "#QUESTION 1"
   ]
  },
  {
   "cell_type": "code",
   "execution_count": 28,
   "metadata": {},
   "outputs": [
    {
     "name": "stdout",
     "output_type": "stream",
     "text": [
      "   APPLIANCE_ID        MODEL_ID PREVIOUS_COOKZONE_ID COOKZONE_ID  \\\n",
      "0       1419610      Bosch VF67                  NaN           D   \n",
      "1       1533224  Whirlpool XY12                  NaN           C   \n",
      "2       2458591  Whirlpool XY12                  NaN           B   \n",
      "3       2719583      Bosch VF67                  NaN           A   \n",
      "4       2867825      Bosch VF67                  NaN         N/A   \n",
      "5       3341057  Whirlpool XY12                  NaN           C   \n",
      "6       4744854  Whirlpool XY12                  NaN         N/A   \n",
      "7       5108603      Bosch VF67                  NaN           D   \n",
      "8       5614226      Bosch VF67                  NaN           B   \n",
      "9       8078673      Bosch VF67                  NaN           D   \n",
      "\n",
      "              EVENT_DATETIME  \n",
      "0 2023-12-05 07:49:18.977865  \n",
      "1 2023-07-25 08:04:14.923712  \n",
      "2 2023-12-19 17:14:44.215794  \n",
      "3 2023-03-25 14:24:18.618088  \n",
      "4 2023-07-05 18:12:45.119050  \n",
      "5 2023-11-08 20:10:35.002702  \n",
      "6 2023-05-17 22:59:43.737870  \n",
      "7 2023-07-06 05:23:22.916729  \n",
      "8 2023-04-30 03:24:18.130563  \n",
      "9 2023-01-29 07:52:03.154776  \n"
     ]
    }
   ],
   "source": [
    "task['EVENT_DATETIME'] = pd.to_datetime(task['EVENT_DATETIME'])\n",
    "task_sorted = task.sort_values(by=['APPLIANCE_ID', 'EVENT_DATETIME'])\n",
    "\n",
    "task_sorted['PREVIOUS_COOKZONE_ID'] = task_sorted.groupby('APPLIANCE_ID')['COOKZONE_ID'].shift(1)\n",
    "changed_cookzones = task_sorted[\n",
    "    (task_sorted['COOKZONE_ID'].notnull()) &\n",
    "    (task_sorted['COOKZONE_ID'] != task_sorted['PREVIOUS_COOKZONE_ID'])\n",
    "    ]\n",
    "changed_cookzones = changed_cookzones[['APPLIANCE_ID', 'MODEL_ID', 'PREVIOUS_COOKZONE_ID', 'COOKZONE_ID', 'EVENT_DATETIME']]\n",
    "changed_cookzones.reset_index(drop=True, inplace=True)\n",
    "print(changed_cookzones)"
   ]
  },
  {
   "cell_type": "code",
   "execution_count": 33,
   "metadata": {},
   "outputs": [],
   "source": [
    "#OBVIOUSLY THE RESULT IS NOT WHAT WE EXPECTED, BEACUSE DATA SHEET IS TOO SMALL, THERE ARE NO CHANGES IN COOKZONES FOR THE SAME APPLIANCE_ID, SO THE PREVIOUS_COOK_ID ALWAYS SHOWS NaN."
   ]
  },
  {
   "cell_type": "code",
   "execution_count": null,
   "metadata": {},
   "outputs": [],
   "source": [
    "#QUESTION 2"
   ]
  },
  {
   "cell_type": "code",
   "execution_count": 35,
   "metadata": {},
   "outputs": [
    {
     "name": "stdout",
     "output_type": "stream",
     "text": [
      "Estimated number of meals per appliance:\n",
      "APPLIANCE_ID\n",
      "2867825    1\n",
      "Name: MESSAGE_TEXT, dtype: int64\n"
     ]
    }
   ],
   "source": [
    "task['EVENT_DATETIME'] = pd.to_datetime(task['EVENT_DATETIME'])\n",
    "\n",
    "meal = task[task['MESSAGE_TEXT'].isin(['Activated', 'Deactivated']) | (task['COOKZONE_ID'] != task['COOKZONE_ID'].shift())]\n",
    "\n",
    "meal = meal.sort_values(by=['APPLIANCE_ID', 'EVENT_DATETIME'])\n",
    "\n",
    "meal['MEAL_DURATION'] = meal.groupby('APPLIANCE_ID')['EVENT_DATETIME'].diff().fillna(pd.Timedelta(seconds=0))\n",
    "\n",
    "meal_count = meal[(meal['MESSAGE_TEXT'] == 'Deactivated') & (meal['MEAL_DURATION'] <= pd.Timedelta(hours=1))].groupby('APPLIANCE_ID')['MESSAGE_TEXT'].count()\n",
    "\n",
    "print(\"Estimated number of meals per appliance:\")\n",
    "print(meal_count)"
   ]
  },
  {
   "cell_type": "code",
   "execution_count": 36,
   "metadata": {},
   "outputs": [
    {
     "name": "stdout",
     "output_type": "stream",
     "text": [
      "Estimated number of meals per appliance:\n",
      "APPLIANCE_ID\n",
      "2867825    1\n",
      "Name: MESSAGE_TEXT, dtype: int64\n"
     ]
    }
   ],
   "source": [
    "relevant_events = task[task['MESSAGE_TEXT'].isin(['Activated', 'Deactivated']) | (task['COOKZONE_ID'] != task['COOKZONE_ID'].shift())]\n",
    "relevant_events = relevant_events.sort_values(by=['APPLIANCE_ID', 'EVENT_DATETIME'])\n",
    "relevant_events['MEAL_DURATION'] = relevant_events.groupby('APPLIANCE_ID')['EVENT_DATETIME'].diff().fillna(pd.Timedelta(seconds=0))\n",
    "meal_count = relevant_events[(relevant_events['MESSAGE_TEXT'] == 'Deactivated') & (relevant_events['MEAL_DURATION'] <= pd.Timedelta(hours=1))]\\\n",
    "    .groupby('APPLIANCE_ID')['MESSAGE_TEXT'].count()\n",
    "\n",
    "print(\"Estimated number of meals per appliance:\")\n",
    "print(meal_count)"
   ]
  },
  {
   "cell_type": "code",
   "execution_count": null,
   "metadata": {},
   "outputs": [],
   "source": [
    "#The obtained result is of course correct, as we only got the value 1. This is because only for this ID there was a change in the status from \"Activated\" to \"Deactivated\"."
   ]
  }
 ],
 "metadata": {
  "kernelspec": {
   "display_name": "Python 3",
   "language": "python",
   "name": "python3"
  },
  "language_info": {
   "codemirror_mode": {
    "name": "ipython",
    "version": 3
   },
   "file_extension": ".py",
   "mimetype": "text/x-python",
   "name": "python",
   "nbconvert_exporter": "python",
   "pygments_lexer": "ipython3",
   "version": "3.12.1"
  }
 },
 "nbformat": 4,
 "nbformat_minor": 2
}
